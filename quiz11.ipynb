{
 "cells": [
  {
   "cell_type": "code",
   "execution_count": 19,
   "metadata": {},
   "outputs": [
    {
     "name": "stdout",
     "output_type": "stream",
     "text": [
      "['a', 'z']\n"
     ]
    }
   ],
   "source": [
    "def filter_letters(values):\n",
    "    return [value for value in values if type(value) not in [int,float,complex]]\n",
    "\n",
    "number_list = [1, 2, 'a', 'z', 6]\n",
    "output = filter_letters(number_list)\n",
    "print(output)\n"
   ]
  },
  {
   "cell_type": "code",
   "execution_count": 23,
   "metadata": {},
   "outputs": [
    {
     "name": "stdout",
     "output_type": "stream",
     "text": [
      "1\n",
      "2\n",
      "3fizz\n",
      "4\n",
      "5buzz\n",
      "6fizz\n",
      "7\n",
      "8\n",
      "9fizz\n",
      "10buzz\n",
      "11\n",
      "12fizz\n",
      "13\n",
      "14\n",
      "15fizzbuzz\n",
      "16\n",
      "17\n",
      "18fizz\n",
      "19\n",
      "20buzz\n"
     ]
    }
   ],
   "source": [
    "from typing import List\n",
    "\n",
    "def fizzbuzz(n: int = 100) -> List[str]:\n",
    "    result = []\n",
    "    \n",
    "    for x in range(1, n + 1):\n",
    "        if x % 3 == 0 and x % 5 == 0:\n",
    "            result.append(str(x) + 'fizzbuzz')\n",
    "        elif x % 3 == 0:\n",
    "            result.append(str(x) + 'fizz')\n",
    "        elif x % 5 == 0:\n",
    "            result.append(str(x) + 'buzz')\n",
    "        else:\n",
    "            result.append(x)\n",
    "\n",
    "    return result\n",
    "    \n",
    "upper_limit = 20\n",
    "output = fizzbuzz(upper_limit)\n",
    "for item in output:\n",
    "    print(item)"
   ]
  }
 ],
 "metadata": {
  "kernelspec": {
   "display_name": "Python 3",
   "language": "python",
   "name": "python3"
  },
  "language_info": {
   "codemirror_mode": {
    "name": "ipython",
    "version": 3
   },
   "file_extension": ".py",
   "mimetype": "text/x-python",
   "name": "python",
   "nbconvert_exporter": "python",
   "pygments_lexer": "ipython3",
   "version": "3.12.7"
  }
 },
 "nbformat": 4,
 "nbformat_minor": 2
}
